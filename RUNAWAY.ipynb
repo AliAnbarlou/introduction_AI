{
 "cells": [
  {
   "cell_type": "code",
   "execution_count": 2,
   "id": "87c1c766-0cae-4909-b70a-4a96588d4e44",
   "metadata": {},
   "outputs": [],
   "source": [
    "import numpy as np\n",
    "from sklearn.model_selection import KFold\n",
    "from sklearn.tree import DecisionTreeClassifier\n",
    "from sklearn.metrics import accuracy_score\n",
    "from sklearn.datasets import load_iris\n",
    "from sklearn.model_selection import train_test_split\n",
    "import matplotlib.pyplot as plt"
   ]
  },
  {
   "cell_type": "code",
   "execution_count": 3,
   "id": "a6ab408e-aa18-4cc6-ba5a-0ee54c38db3b",
   "metadata": {},
   "outputs": [],
   "source": [
    "data = load_iris()\n",
    "x ,y = data.data , data.target\n",
    "k = 15"
   ]
  },
  {
   "cell_type": "code",
   "execution_count": 4,
   "id": "026737f9-9780-4ad2-b0c0-feac8980699a",
   "metadata": {},
   "outputs": [],
   "source": [
    "#x_train , x_test , y_train , y_test = train_test_split(x,y,test_size=0.2 , random_state=42)"
   ]
  },
  {
   "cell_type": "code",
   "execution_count": 5,
   "id": "2b781572-cff4-40ed-8df7-aa29202d0df6",
   "metadata": {},
   "outputs": [],
   "source": [
    "kf = KFold(n_splits=k,shuffle=True,random_state=200) #17 bad , 200 good"
   ]
  },
  {
   "cell_type": "code",
   "execution_count": 6,
   "id": "309fce2f-3d3f-41d7-aa8e-8e768a8ba8ea",
   "metadata": {},
   "outputs": [
    {
     "name": "stdout",
     "output_type": "stream",
     "text": [
      "1.0\n",
      "1.0\n",
      "1.0\n",
      "1.0\n",
      "0.9\n",
      "0.9\n",
      "1.0\n",
      "1.0\n",
      "1.0\n",
      "1.0\n",
      "0.9\n",
      "1.0\n",
      "0.7\n",
      "0.9\n",
      "1.0\n",
      "avg is : 0.9533333333333334\n"
     ]
    }
   ],
   "source": [
    "avg = []\n",
    "for train_index , test_index in kf.split(x):\n",
    "    x_train , x_test = x[train_index] , x[test_index]\n",
    "    y_train , y_test = y[train_index] , y[test_index]\n",
    "    #Model\n",
    "    model = DecisionTreeClassifier()\n",
    "    model.fit(x_train,y_train)\n",
    "    #done?!\n",
    "    predict = model.predict(x_test)\n",
    "    accuracy = accuracy_score(y_test,predict)\n",
    "    avg.append(accuracy)\n",
    "    print(accuracy)\n",
    "print(f\"avg is : {np.mean(avg)}\")"
   ]
  },
  {
   "cell_type": "code",
   "execution_count": 25,
   "id": "6101da2e-1e46-424c-8466-e6ba42f2610f",
   "metadata": {},
   "outputs": [
    {
     "ename": "SyntaxError",
     "evalue": "invalid syntax (3122684905.py, line 7)",
     "output_type": "error",
     "traceback": [
      "\u001b[0;36m  Cell \u001b[0;32mIn[25], line 7\u001b[0;36m\u001b[0m\n\u001b[0;31m    plt.\u001b[0m\n\u001b[0m        ^\u001b[0m\n\u001b[0;31mSyntaxError\u001b[0m\u001b[0;31m:\u001b[0m invalid syntax\n"
     ]
    }
   ],
   "source": [
    "plt.figure(facecolor='orange')\n",
    "ax = plt.axes()\n",
    "ax.set_facecolor(\"black\")\n",
    "plt.ylabel(\"Target\")\n",
    "plt.xlabel(\"Predict\")\n",
    "plt.title(\"lol bro\")\n",
    "plt.\n",
    "plt.plot(predict,y_test , color=\"red\",)\n"
   ]
  },
  {
   "cell_type": "code",
   "execution_count": null,
   "id": "e2bcffe8-d117-4a8b-a315-a72420eb758e",
   "metadata": {},
   "outputs": [],
   "source": [
    "a = np.random.normal(0.1,1,100)\n",
    "plt.hist(a,100)"
   ]
  },
  {
   "cell_type": "code",
   "execution_count": null,
   "id": "0c4afca0-04c4-4783-854e-96880d72aedf",
   "metadata": {},
   "outputs": [],
   "source": []
  }
 ],
 "metadata": {
  "kernelspec": {
   "display_name": "Python 3 (ipykernel)",
   "language": "python",
   "name": "python3"
  },
  "language_info": {
   "codemirror_mode": {
    "name": "ipython",
    "version": 3
   },
   "file_extension": ".py",
   "mimetype": "text/x-python",
   "name": "python",
   "nbconvert_exporter": "python",
   "pygments_lexer": "ipython3",
   "version": "3.10.12"
  }
 },
 "nbformat": 4,
 "nbformat_minor": 5
}
